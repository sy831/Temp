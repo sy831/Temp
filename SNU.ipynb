{
  "nbformat": 4,
  "nbformat_minor": 0,
  "metadata": {
    "colab": {
      "name": "SNU.ipynb",
      "provenance": [],
      "collapsed_sections": [],
      "toc_visible": true,
      "authorship_tag": "ABX9TyP9kwxAWKn3Casg7nKUWUX3",
      "include_colab_link": true
    },
    "kernelspec": {
      "name": "python3",
      "display_name": "Python 3"
    },
    "language_info": {
      "name": "python"
    }
  },
  "cells": [
    {
      "cell_type": "markdown",
      "metadata": {
        "id": "view-in-github",
        "colab_type": "text"
      },
      "source": [
        "<a href=\"https://colab.research.google.com/github/sy831/Temp/blob/master/SNU.ipynb\" target=\"_parent\"><img src=\"https://colab.research.google.com/assets/colab-badge.svg\" alt=\"Open In Colab\"/></a>"
      ]
    },
    {
      "cell_type": "markdown",
      "source": [
        "# 1주차 - 교과목 소개 & 파이썬 소개\n",
        "'''\n",
        "프로그래밍 개요\n",
        "기본자료형 - int/float\n",
        "'''\n"
      ],
      "metadata": {
        "id": "ZLBcT8i-ZXkr"
      }
    },
    {
      "cell_type": "markdown",
      "source": [
        "- int : 정수형 \n",
        "- float : 실수형(부동소숫점형)\n",
        "- int 타입과 float 타입의 연산은 float타입으로 계산됨\n",
        " + 문자열(string)은 다음 시간에 다루기로 함\n"
      ],
      "metadata": {
        "id": "QZZFL-nabSM5"
      }
    },
    {
      "cell_type": "code",
      "source": [
        "#코드 셀 code shell\n",
        "a = 1\n",
        "b = 1.0\n",
        "print(type(a),type(b))\n",
        "print(a,b)\n",
        "print(f'{a}, {b}는 다른 타입을 갖는다')\n",
        "sum=a+b\n",
        "print(sum)\n",
        "\n",
        "print(f'{a}와/과 {b}를 더한 값 {sum}은 {type(sum)} 타입이 된다.')\n"
      ],
      "metadata": {
        "id": "dim0fdS5Zo7P",
        "colab": {
          "base_uri": "https://localhost:8080/"
        },
        "outputId": "0fcccf95-31f8-463a-fa49-8f44e4df559f"
      },
      "execution_count": 109,
      "outputs": [
        {
          "output_type": "stream",
          "name": "stdout",
          "text": [
            "<class 'int'> <class 'float'>\n",
            "1 1.0\n",
            "1, 1.0는 다른 타입을 갖는다\n",
            "2.0\n",
            "1와/과 1.0를 더한 값 2.0은 <class 'float'> 타입이 된다.\n"
          ]
        }
      ]
    },
    {
      "cell_type": "markdown",
      "source": [
        "기본 연산\n",
        "\n",
        "\n",
        "> \n",
        "\n",
        "*   덧셈 : +\n",
        "\n",
        "*   뺄셈 : -\n",
        " \n",
        "*  곱셈 : *\n",
        "* 나눗셈 : /\n",
        "* n 제곱 : ** n\n",
        "* 몫 : //\n",
        "* 나머지 : %\n",
        "\n"
      ],
      "metadata": {
        "id": "kxjZbzy9cWTn"
      }
    },
    {
      "cell_type": "code",
      "source": [
        "a = 100\n",
        "b = 3\n",
        "plus = a + b\n",
        "substract = a - b\n",
        "div = a/b\n",
        "power = a ** b\n",
        "quot = a//b\n",
        "remainder = a%b\n",
        "print(f'{a}와 {b}의 덧셈 {plus}, 뺄셈 {substract}, 나눗셈 {div}, 제곱 {power}, 몫 {quot}, 나머지{remainder}')"
      ],
      "metadata": {
        "id": "M_1CfrBudU4_",
        "colab": {
          "base_uri": "https://localhost:8080/"
        },
        "outputId": "1a41385a-b06f-4cdd-91a0-a97dc8fd3621"
      },
      "execution_count": 110,
      "outputs": [
        {
          "output_type": "stream",
          "name": "stdout",
          "text": [
            "100와 3의 덧셈 103, 뺄셈 97, 나눗셈 33.333333333333336, 제곱 1000000, 몫 33, 나머지1\n"
          ]
        }
      ]
    },
    {
      "cell_type": "markdown",
      "source": [
        "# 2주차 - 파이썬 둘러보기\n",
        "\n",
        "\n",
        "\n",
        "> - 변수 선언\n",
        "- 기본자료형 : bool, string\n",
        " \n",
        "\n"
      ],
      "metadata": {
        "id": "3SOTAYfmfJC-"
      }
    },
    {
      "cell_type": "code",
      "source": [
        "# 변수(variable) = 값(value)\n",
        "# string\n",
        "\n",
        "hello = '안녕하세요'\n",
        "print(hello)"
      ],
      "metadata": {
        "id": "tRNn_y_BfpOA",
        "colab": {
          "base_uri": "https://localhost:8080/"
        },
        "outputId": "16bbb365-de87-454c-fc7d-3a2893dac9e7"
      },
      "execution_count": 111,
      "outputs": [
        {
          "output_type": "stream",
          "name": "stdout",
          "text": [
            "안녕하세요\n"
          ]
        }
      ]
    },
    {
      "cell_type": "code",
      "source": [
        "# string 에서 + 는 두개의 문자열을 이어주는 연결 함수 concatenation이다.  \n",
        "print(hello + '!' + ' vs ' + hello + '?' )"
      ],
      "metadata": {
        "id": "4gloPKxBgUrP",
        "colab": {
          "base_uri": "https://localhost:8080/"
        },
        "outputId": "b4c6ebf2-c83a-4176-81bc-a6ff0c834d54"
      },
      "execution_count": 112,
      "outputs": [
        {
          "output_type": "stream",
          "name": "stdout",
          "text": [
            "안녕하세요! vs 안녕하세요?\n"
          ]
        }
      ]
    },
    {
      "cell_type": "markdown",
      "source": [
        "bool 타입 관련 함수\n",
        " # and\n",
        " # or\n",
        " # not\n",
        "\n",
        "bool 타입 관련 연산자\n",
        "\n",
        "- # <\n",
        "- # >\n",
        "- # <=\n",
        "- # >=\n",
        "- # ==\n",
        "- # !="
      ],
      "metadata": {
        "id": "5Bx9jxXUiP-Z"
      }
    },
    {
      "cell_type": "code",
      "source": [
        "# bool\n",
        "\n",
        "a = 5\n",
        "b = 8\n",
        "#a == b\n",
        "#a == 5"
      ],
      "metadata": {
        "id": "Pj71KcNqhBUu"
      },
      "execution_count": 113,
      "outputs": []
    },
    {
      "cell_type": "code",
      "source": [
        "#bool 타입 관련 함수\n",
        "\n",
        "a < b\n",
        "#a > b\n",
        "#not a < b\n",
        "\n"
      ],
      "metadata": {
        "id": "8Dn1c7Vwh0Wi",
        "colab": {
          "base_uri": "https://localhost:8080/"
        },
        "outputId": "a1096aa9-70ec-45e7-cb5c-dac152fce837"
      },
      "execution_count": 114,
      "outputs": [
        {
          "output_type": "execute_result",
          "data": {
            "text/plain": [
              "True"
            ]
          },
          "metadata": {},
          "execution_count": 114
        }
      ]
    },
    {
      "cell_type": "markdown",
      "source": [
        "숫자를 제외한 서로 다른 데이터 타입은 비교대상이 되지 않음 \n",
        "\n",
        "Flase 로 리턴함\n"
      ],
      "metadata": {
        "id": "Y00ySY40mMpw"
      }
    },
    {
      "cell_type": "code",
      "source": [
        "a == 5.0\n",
        "#a == '5'"
      ],
      "metadata": {
        "id": "75Tx-SUymSKy",
        "colab": {
          "base_uri": "https://localhost:8080/"
        },
        "outputId": "ac3752c2-91f9-44ae-9a64-eacbc1e0b6a7"
      },
      "execution_count": 115,
      "outputs": [
        {
          "output_type": "execute_result",
          "data": {
            "text/plain": [
              "True"
            ]
          },
          "metadata": {},
          "execution_count": 115
        }
      ]
    },
    {
      "cell_type": "code",
      "source": [
        "input_a = input(\"정수 a를 입력하세요 : \")\n",
        "input_b = input(\"정수 b를 입력하세요 : \")\n",
        "conc = input_a + input_b\n",
        "print(\"입력하신 숫자의 연결은 \" + conc + \"입니다.\")\n",
        "a=int(input_a)\n",
        "b=int(input_b)\n",
        "sum = a + b\n",
        "str_sum=str(sum)\n",
        "#sum = input_a + input_b\n",
        "print(\"입력하신 숫자의 합은 \" + str_sum + \"입니다.\") #스트링 연결\n",
        "print(f\"입력하신 숫자의 합은 {sum}입니다\" ) #혼합구조 한번에 출력\n",
        "#print(\"입력하신 숫자의 합은\",sum,'입니다') #스트링과 정수형 출력"
      ],
      "metadata": {
        "id": "LZeAWc7BnCNN",
        "colab": {
          "base_uri": "https://localhost:8080/"
        },
        "outputId": "f6cadf60-ba94-45b0-d8c1-dd0435b33fcd"
      },
      "execution_count": 116,
      "outputs": [
        {
          "output_type": "stream",
          "name": "stdout",
          "text": [
            "정수 a를 입력하세요 : 3\n",
            "정수 b를 입력하세요 : 7\n",
            "입력하신 숫자의 연결은 37입니다.\n",
            "입력하신 숫자의 합은 10입니다.\n",
            "입력하신 숫자의 합은 10입니다\n"
          ]
        }
      ]
    },
    {
      "cell_type": "markdown",
      "source": [
        "# 3주차 - 조건문\n",
        "+ if \n",
        "+ if / else\n",
        "+ if / elif / else"
      ],
      "metadata": {
        "id": "38KtrUajvHZo"
      }
    },
    {
      "cell_type": "code",
      "source": [
        "# 조건문을 사용할 때는 들여쓰기와 콜론(:) 사용에 유의할 것\n",
        "# 다음 내용을 살펴보자.\n",
        "# 점수가 40점 이상이면 pass.\n",
        "print('당신의 점수를 입력하세요.')\n",
        "score=int(input())\n",
        "if score >= 40:\n",
        "    print('당신은 pass했습니다.')\n",
        "  \n"
      ],
      "metadata": {
        "id": "8VW4MVFAvsyO",
        "colab": {
          "base_uri": "https://localhost:8080/"
        },
        "outputId": "0bddc821-1f2e-4261-d478-83c49e935ed4"
      },
      "execution_count": 117,
      "outputs": [
        {
          "name": "stdout",
          "output_type": "stream",
          "text": [
            "당신의 점수를 입력하세요.\n",
            "36\n"
          ]
        }
      ]
    },
    {
      "cell_type": "code",
      "source": [
        "# 점수가 40점 이상이면 pass, 아니면 non-pass.\n",
        "print('당신의 점수를 입력하세요.')\n",
        "score=int(input())\n",
        "if score >= 40:\n",
        "    print('당신은 pass했습니다.')\n",
        "else : print('당신은 nonpass했습니다.')"
      ],
      "metadata": {
        "id": "PE9j6tkHzbA8",
        "colab": {
          "base_uri": "https://localhost:8080/"
        },
        "outputId": "6a79bf25-5e3d-4289-8a17-a5e89220115e"
      },
      "execution_count": 118,
      "outputs": [
        {
          "output_type": "stream",
          "name": "stdout",
          "text": [
            "당신의 점수를 입력하세요.\n",
            "46\n",
            "당신은 pass했습니다.\n"
          ]
        }
      ]
    },
    {
      "cell_type": "code",
      "source": [
        "# 점수가 90점 이상이면 A, 75점 이상이면 B, 60점 이상이면 C, 40점 이상이면 D, 아니면 F.\n",
        "print('당신의 점수를 입력하세요.')\n",
        "score=int(input())\n",
        "if score >= 90:\n",
        "    print('당신은 A학점입니다.')\n",
        "elif score >= 75:\n",
        "    print('당신은 B학점입니다.') \n",
        "elif score >= 60:\n",
        "    print('당신은 C학점입니다.') \n",
        "elif score >= 40:\n",
        "    print('당신은 D학점입니다.') \n",
        "else : print('당신은 F학점입니다')"
      ],
      "metadata": {
        "id": "B-zAdqPUztGM",
        "colab": {
          "base_uri": "https://localhost:8080/"
        },
        "outputId": "08ffc9a4-1601-404b-999d-2c55575f1dcd"
      },
      "execution_count": 119,
      "outputs": [
        {
          "output_type": "stream",
          "name": "stdout",
          "text": [
            "당신의 점수를 입력하세요.\n",
            "36\n",
            "당신은 F학점입니다\n"
          ]
        }
      ]
    },
    {
      "cell_type": "markdown",
      "source": [
        "# 4주차 - 반복문\n",
        "+ while\n",
        "+ for"
      ],
      "metadata": {
        "id": "HCG5BBMz1W0U"
      }
    },
    {
      "cell_type": "code",
      "source": [
        "# 변수 업데이트\n",
        "x = 1\n",
        "x = x + 1\n",
        "print(x)"
      ],
      "metadata": {
        "id": "OtHiPwq_1jwH",
        "colab": {
          "base_uri": "https://localhost:8080/"
        },
        "outputId": "15595b9c-7f8a-4b3b-df6a-9b8ab6e21e10"
      },
      "execution_count": 120,
      "outputs": [
        {
          "output_type": "stream",
          "name": "stdout",
          "text": [
            "2\n"
          ]
        }
      ]
    },
    {
      "cell_type": "code",
      "source": [
        "# while 반복문\n",
        "# while 반복문도 들여쓰기와 콜론의 사용에 유의한다.\n",
        "# 6월 21일 카운트다운을 한 후 발사에 성공한 누리호. 카운트다운을 while을 활용하여 나타내자.\n",
        "# 무한루프가 나타나지 않도록 종결되는 구문으로 만들어야 함.\n",
        "\n",
        "n = 10\n",
        "while n > 1:\n",
        "  print(n)\n",
        "  n = n - 1\n",
        "print(\"엔진점화 \\n이륙\")"
      ],
      "metadata": {
        "id": "f5Mr0ZCP2pns",
        "colab": {
          "base_uri": "https://localhost:8080/"
        },
        "outputId": "df0f7c1b-a59e-4f35-c5bd-ba7ce138b66b"
      },
      "execution_count": 121,
      "outputs": [
        {
          "output_type": "stream",
          "name": "stdout",
          "text": [
            "10\n",
            "9\n",
            "8\n",
            "7\n",
            "6\n",
            "5\n",
            "4\n",
            "3\n",
            "2\n",
            "엔진점화 \n",
            "이륙\n"
          ]
        }
      ]
    },
    {
      "cell_type": "code",
      "source": [
        "# for 반복문\n",
        "# 반복 횟수를 알고 있을 때 사용가능\n",
        "'''\n",
        "for 항목변수 in 문자열(또는 리스트, 튜플) :\n",
        "      수행코드1\n",
        "      수행코드2\n",
        "'''\n",
        "# 40점 이상이면 합격, 아니면 불합격이라 하자. 5명의 학생의 점수가 다음과 같을 때 각각의 학생이 합격인지 불합격인지 출력하기.\n",
        "# 아래의 %d는 정수형 데이터를 문자열과 출력할 때 사용한다.\n",
        "score_list = [ 80, 30, 76, 24, 99]\n",
        "no = 0 \n",
        "for score in score_list: \n",
        "    no = no +1 \n",
        "    if score >= 80:\n",
        "        print(f'{no}번 학생은 합격입니다.') \n",
        "    else: \n",
        "        print(f'{no}번 학생은 불합격입니다.')"
      ],
      "metadata": {
        "id": "cqByZRFJ7SEP",
        "colab": {
          "base_uri": "https://localhost:8080/"
        },
        "outputId": "ec16ec13-f155-4121-f353-7bbf5cb13e19"
      },
      "execution_count": 122,
      "outputs": [
        {
          "output_type": "stream",
          "name": "stdout",
          "text": [
            "1번 학생은 합격입니다.\n",
            "2번 학생은 불합격입니다.\n",
            "3번 학생은 불합격입니다.\n",
            "4번 학생은 불합격입니다.\n",
            "5번 학생은 합격입니다.\n"
          ]
        }
      ]
    },
    {
      "cell_type": "code",
      "source": [
        "# continue 활용\n",
        "score_list = [ 80, 30, 76, 24, 99]\n",
        "no = 0 \n",
        "for score in score_list: \n",
        "    no = no +1 \n",
        "    if score < 80:\n",
        "      continue \n",
        "    print(f'{no}번 학생 축하합니다. 합격입니다.')"
      ],
      "metadata": {
        "id": "n145XAwlF7-x",
        "colab": {
          "base_uri": "https://localhost:8080/"
        },
        "outputId": "267117ec-7557-442f-95a0-2b401ea9282b"
      },
      "execution_count": 123,
      "outputs": [
        {
          "output_type": "stream",
          "name": "stdout",
          "text": [
            "1번 학생 축하합니다. 합격입니다.\n",
            "5번 학생 축하합니다. 합격입니다.\n"
          ]
        }
      ]
    },
    {
      "cell_type": "code",
      "source": [
        "# range()를 활용한 for반복문\n",
        "# range(n)은 n미만의 숫자 리스트를 생성함. range(n)==range(0,n)\n",
        "x_list = range(5)\n",
        "for x in x_list :\n",
        "    print(f'{x}의 세제곱은 {x**3}이다.') "
      ],
      "metadata": {
        "id": "m7S1YTR0-Sgt",
        "colab": {
          "base_uri": "https://localhost:8080/"
        },
        "outputId": "7301216d-907e-48c9-e676-0570e2755d17"
      },
      "execution_count": 124,
      "outputs": [
        {
          "output_type": "stream",
          "name": "stdout",
          "text": [
            "0의 세제곱은 0이다.\n",
            "1의 세제곱은 1이다.\n",
            "2의 세제곱은 8이다.\n",
            "3의 세제곱은 27이다.\n",
            "4의 세제곱은 64이다.\n"
          ]
        }
      ]
    },
    {
      "cell_type": "code",
      "source": [
        "# 구구단에 활용\n",
        "x_list = range(2,10) \n",
        "for x in x_list:              #x단을 위한 for \n",
        "    for n in range(1, 10):    #x단의 n번째 값을 위한 for\n",
        "        print(x*n, end=\" \")   #\" \" 는 같은 n단을 한줄에 표기.\n",
        "    print('')                 #' '는 n, n+1단의 줄바꿈을 위해."
      ],
      "metadata": {
        "id": "beU4MPqLAJu_",
        "colab": {
          "base_uri": "https://localhost:8080/"
        },
        "outputId": "ebde1d2d-b00a-461c-e213-aa1a948046db"
      },
      "execution_count": 125,
      "outputs": [
        {
          "output_type": "stream",
          "name": "stdout",
          "text": [
            "2 4 6 8 10 12 14 16 18 \n",
            "3 6 9 12 15 18 21 24 27 \n",
            "4 8 12 16 20 24 28 32 36 \n",
            "5 10 15 20 25 30 35 40 45 \n",
            "6 12 18 24 30 36 42 48 54 \n",
            "7 14 21 28 35 42 49 56 63 \n",
            "8 16 24 32 40 48 56 64 72 \n",
            "9 18 27 36 45 54 63 72 81 \n"
          ]
        }
      ]
    }
  ]
}